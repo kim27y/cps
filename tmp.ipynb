{
 "cells": [
  {
   "cell_type": "code",
   "execution_count": null,
   "metadata": {},
   "outputs": [],
   "source": [
    "def get_numeric_feature_names(dataset_path,task='reg'):\n",
    "    df = pd.read_csv(dataset_path)\n",
    "    feature_names = list(df.columns)\n",
    "    # num_label=len(set(list(df[\"target\"])))\n",
    "    feature_names.remove(\"target\")\n",
    "    return feature_names"
   ]
  }
 ],
 "metadata": {
  "kernelspec": {
   "display_name": "Python 3.8.13 ('linear')",
   "language": "python",
   "name": "python3"
  },
  "language_info": {
   "name": "python",
   "version": "3.8.13"
  },
  "orig_nbformat": 4,
  "vscode": {
   "interpreter": {
    "hash": "7c228779b27da44ad06db9afa42d6a2ab08587f54c4ddbfbd020b6770de58eb6"
   }
  }
 },
 "nbformat": 4,
 "nbformat_minor": 2
}
